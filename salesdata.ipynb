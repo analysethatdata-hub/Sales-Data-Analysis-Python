{
 "cells": [
  {
   "cell_type": "markdown",
   "id": "ee27006f-8f1d-4fc0-8c9d-e8de6c67ed38",
   "metadata": {},
   "source": [
    "# Import Libraries"
   ]
  },
  {
   "cell_type": "code",
   "execution_count": 1,
   "id": "49ef5654-597e-45d7-beed-566ac6a56079",
   "metadata": {},
   "outputs": [],
   "source": [
    "import pandas as pd\n",
    "import numpy as np\n",
    "import matplotlib.pyplot as plt\n",
    "import seaborn as sns"
   ]
  },
  {
   "cell_type": "markdown",
   "id": "c6d1030d-dbf9-41a7-8827-12cb2c36b129",
   "metadata": {},
   "source": [
    "# Retrieve the data"
   ]
  },
  {
   "cell_type": "code",
   "execution_count": 2,
   "id": "0d8960e7-4bf6-4872-9afd-ba96c360dd5f",
   "metadata": {},
   "outputs": [],
   "source": [
    "df=pd.read_csv('sales_data.csv')"
   ]
  },
  {
   "cell_type": "markdown",
   "id": "146d33a2-bff0-4f7b-b689-62013f5d980a",
   "metadata": {},
   "source": [
    "# Data Sampling"
   ]
  },
  {
   "cell_type": "code",
   "execution_count": 3,
   "id": "f2789148-2b86-43b6-853d-5d0d05efabe7",
   "metadata": {},
   "outputs": [
    {
     "data": {
      "text/html": [
       "<div>\n",
       "<style scoped>\n",
       "    .dataframe tbody tr th:only-of-type {\n",
       "        vertical-align: middle;\n",
       "    }\n",
       "\n",
       "    .dataframe tbody tr th {\n",
       "        vertical-align: top;\n",
       "    }\n",
       "\n",
       "    .dataframe thead th {\n",
       "        text-align: right;\n",
       "    }\n",
       "</style>\n",
       "<table border=\"1\" class=\"dataframe\">\n",
       "  <thead>\n",
       "    <tr style=\"text-align: right;\">\n",
       "      <th></th>\n",
       "      <th>Product_ID</th>\n",
       "      <th>Sale_Date</th>\n",
       "      <th>Sales_Rep</th>\n",
       "      <th>Region</th>\n",
       "      <th>Sales_Amount</th>\n",
       "      <th>Quantity_Sold</th>\n",
       "      <th>Product_Category</th>\n",
       "      <th>Unit_Cost</th>\n",
       "      <th>Unit_Price</th>\n",
       "      <th>Customer_Type</th>\n",
       "      <th>Discount</th>\n",
       "      <th>Payment_Method</th>\n",
       "      <th>Sales_Channel</th>\n",
       "      <th>Region_and_Sales_Rep</th>\n",
       "    </tr>\n",
       "  </thead>\n",
       "  <tbody>\n",
       "    <tr>\n",
       "      <th>0</th>\n",
       "      <td>1052</td>\n",
       "      <td>2023-02-03</td>\n",
       "      <td>Bob</td>\n",
       "      <td>North</td>\n",
       "      <td>5053.97</td>\n",
       "      <td>18</td>\n",
       "      <td>Furniture</td>\n",
       "      <td>152.75</td>\n",
       "      <td>267.22</td>\n",
       "      <td>Returning</td>\n",
       "      <td>0.09</td>\n",
       "      <td>Cash</td>\n",
       "      <td>Online</td>\n",
       "      <td>North-Bob</td>\n",
       "    </tr>\n",
       "    <tr>\n",
       "      <th>1</th>\n",
       "      <td>1093</td>\n",
       "      <td>2023-04-21</td>\n",
       "      <td>Bob</td>\n",
       "      <td>West</td>\n",
       "      <td>4384.02</td>\n",
       "      <td>17</td>\n",
       "      <td>Furniture</td>\n",
       "      <td>3816.39</td>\n",
       "      <td>4209.44</td>\n",
       "      <td>Returning</td>\n",
       "      <td>0.11</td>\n",
       "      <td>Cash</td>\n",
       "      <td>Retail</td>\n",
       "      <td>West-Bob</td>\n",
       "    </tr>\n",
       "    <tr>\n",
       "      <th>2</th>\n",
       "      <td>1015</td>\n",
       "      <td>2023-09-21</td>\n",
       "      <td>David</td>\n",
       "      <td>South</td>\n",
       "      <td>4631.23</td>\n",
       "      <td>30</td>\n",
       "      <td>Food</td>\n",
       "      <td>261.56</td>\n",
       "      <td>371.40</td>\n",
       "      <td>Returning</td>\n",
       "      <td>0.20</td>\n",
       "      <td>Bank Transfer</td>\n",
       "      <td>Retail</td>\n",
       "      <td>South-David</td>\n",
       "    </tr>\n",
       "    <tr>\n",
       "      <th>3</th>\n",
       "      <td>1072</td>\n",
       "      <td>2023-08-24</td>\n",
       "      <td>Bob</td>\n",
       "      <td>South</td>\n",
       "      <td>2167.94</td>\n",
       "      <td>39</td>\n",
       "      <td>Clothing</td>\n",
       "      <td>4330.03</td>\n",
       "      <td>4467.75</td>\n",
       "      <td>New</td>\n",
       "      <td>0.02</td>\n",
       "      <td>Credit Card</td>\n",
       "      <td>Retail</td>\n",
       "      <td>South-Bob</td>\n",
       "    </tr>\n",
       "    <tr>\n",
       "      <th>4</th>\n",
       "      <td>1061</td>\n",
       "      <td>2023-03-24</td>\n",
       "      <td>Charlie</td>\n",
       "      <td>East</td>\n",
       "      <td>3750.20</td>\n",
       "      <td>13</td>\n",
       "      <td>Electronics</td>\n",
       "      <td>637.37</td>\n",
       "      <td>692.71</td>\n",
       "      <td>New</td>\n",
       "      <td>0.08</td>\n",
       "      <td>Credit Card</td>\n",
       "      <td>Online</td>\n",
       "      <td>East-Charlie</td>\n",
       "    </tr>\n",
       "  </tbody>\n",
       "</table>\n",
       "</div>"
      ],
      "text/plain": [
       "   Product_ID   Sale_Date Sales_Rep Region  Sales_Amount  Quantity_Sold  \\\n",
       "0        1052  2023-02-03       Bob  North       5053.97             18   \n",
       "1        1093  2023-04-21       Bob   West       4384.02             17   \n",
       "2        1015  2023-09-21     David  South       4631.23             30   \n",
       "3        1072  2023-08-24       Bob  South       2167.94             39   \n",
       "4        1061  2023-03-24   Charlie   East       3750.20             13   \n",
       "\n",
       "  Product_Category  Unit_Cost  Unit_Price Customer_Type  Discount  \\\n",
       "0        Furniture     152.75      267.22     Returning      0.09   \n",
       "1        Furniture    3816.39     4209.44     Returning      0.11   \n",
       "2             Food     261.56      371.40     Returning      0.20   \n",
       "3         Clothing    4330.03     4467.75           New      0.02   \n",
       "4      Electronics     637.37      692.71           New      0.08   \n",
       "\n",
       "  Payment_Method Sales_Channel Region_and_Sales_Rep  \n",
       "0           Cash        Online            North-Bob  \n",
       "1           Cash        Retail             West-Bob  \n",
       "2  Bank Transfer        Retail          South-David  \n",
       "3    Credit Card        Retail            South-Bob  \n",
       "4    Credit Card        Online         East-Charlie  "
      ]
     },
     "execution_count": 3,
     "metadata": {},
     "output_type": "execute_result"
    }
   ],
   "source": [
    "df.head()"
   ]
  },
  {
   "cell_type": "code",
   "execution_count": 4,
   "id": "ff74bac0-ba67-4301-ab03-b82c18cdc9e7",
   "metadata": {},
   "outputs": [
    {
     "data": {
      "text/plain": [
       "Index(['Product_ID', 'Sale_Date', 'Sales_Rep', 'Region', 'Sales_Amount',\n",
       "       'Quantity_Sold', 'Product_Category', 'Unit_Cost', 'Unit_Price',\n",
       "       'Customer_Type', 'Discount', 'Payment_Method', 'Sales_Channel',\n",
       "       'Region_and_Sales_Rep'],\n",
       "      dtype='object')"
      ]
     },
     "execution_count": 4,
     "metadata": {},
     "output_type": "execute_result"
    }
   ],
   "source": [
    "df.columns"
   ]
  },
  {
   "cell_type": "code",
   "execution_count": 5,
   "id": "3e751bb6-e8ba-483a-ae7b-b155a16fe724",
   "metadata": {},
   "outputs": [
    {
     "data": {
      "text/html": [
       "<div>\n",
       "<style scoped>\n",
       "    .dataframe tbody tr th:only-of-type {\n",
       "        vertical-align: middle;\n",
       "    }\n",
       "\n",
       "    .dataframe tbody tr th {\n",
       "        vertical-align: top;\n",
       "    }\n",
       "\n",
       "    .dataframe thead th {\n",
       "        text-align: right;\n",
       "    }\n",
       "</style>\n",
       "<table border=\"1\" class=\"dataframe\">\n",
       "  <thead>\n",
       "    <tr style=\"text-align: right;\">\n",
       "      <th></th>\n",
       "      <th>Product_ID</th>\n",
       "      <th>Sale_Date</th>\n",
       "      <th>Sales_Rep</th>\n",
       "      <th>Region</th>\n",
       "      <th>Sales_Amount</th>\n",
       "      <th>Quantity_Sold</th>\n",
       "      <th>Product_Category</th>\n",
       "      <th>Unit_Cost</th>\n",
       "      <th>Unit_Price</th>\n",
       "      <th>Customer_Type</th>\n",
       "      <th>Discount</th>\n",
       "      <th>Payment_Method</th>\n",
       "      <th>Sales_Channel</th>\n",
       "      <th>Region_and_Sales_Rep</th>\n",
       "    </tr>\n",
       "  </thead>\n",
       "  <tbody>\n",
       "    <tr>\n",
       "      <th>995</th>\n",
       "      <td>1010</td>\n",
       "      <td>2023-04-15</td>\n",
       "      <td>Charlie</td>\n",
       "      <td>North</td>\n",
       "      <td>4733.88</td>\n",
       "      <td>4</td>\n",
       "      <td>Food</td>\n",
       "      <td>4943.03</td>\n",
       "      <td>5442.15</td>\n",
       "      <td>Returning</td>\n",
       "      <td>0.29</td>\n",
       "      <td>Cash</td>\n",
       "      <td>Online</td>\n",
       "      <td>North-Charlie</td>\n",
       "    </tr>\n",
       "    <tr>\n",
       "      <th>996</th>\n",
       "      <td>1067</td>\n",
       "      <td>2023-09-07</td>\n",
       "      <td>Bob</td>\n",
       "      <td>North</td>\n",
       "      <td>4716.36</td>\n",
       "      <td>37</td>\n",
       "      <td>Clothing</td>\n",
       "      <td>1754.32</td>\n",
       "      <td>1856.40</td>\n",
       "      <td>New</td>\n",
       "      <td>0.21</td>\n",
       "      <td>Bank Transfer</td>\n",
       "      <td>Retail</td>\n",
       "      <td>North-Bob</td>\n",
       "    </tr>\n",
       "    <tr>\n",
       "      <th>997</th>\n",
       "      <td>1018</td>\n",
       "      <td>2023-04-27</td>\n",
       "      <td>David</td>\n",
       "      <td>South</td>\n",
       "      <td>7629.70</td>\n",
       "      <td>17</td>\n",
       "      <td>Clothing</td>\n",
       "      <td>355.72</td>\n",
       "      <td>438.27</td>\n",
       "      <td>Returning</td>\n",
       "      <td>0.06</td>\n",
       "      <td>Bank Transfer</td>\n",
       "      <td>Online</td>\n",
       "      <td>South-David</td>\n",
       "    </tr>\n",
       "    <tr>\n",
       "      <th>998</th>\n",
       "      <td>1100</td>\n",
       "      <td>2023-12-20</td>\n",
       "      <td>David</td>\n",
       "      <td>West</td>\n",
       "      <td>1629.47</td>\n",
       "      <td>39</td>\n",
       "      <td>Electronics</td>\n",
       "      <td>3685.03</td>\n",
       "      <td>3743.39</td>\n",
       "      <td>New</td>\n",
       "      <td>0.01</td>\n",
       "      <td>Bank Transfer</td>\n",
       "      <td>Online</td>\n",
       "      <td>West-David</td>\n",
       "    </tr>\n",
       "    <tr>\n",
       "      <th>999</th>\n",
       "      <td>1086</td>\n",
       "      <td>2023-08-16</td>\n",
       "      <td>Alice</td>\n",
       "      <td>East</td>\n",
       "      <td>4923.93</td>\n",
       "      <td>48</td>\n",
       "      <td>Food</td>\n",
       "      <td>2632.58</td>\n",
       "      <td>2926.68</td>\n",
       "      <td>Returning</td>\n",
       "      <td>0.14</td>\n",
       "      <td>Cash</td>\n",
       "      <td>Online</td>\n",
       "      <td>East-Alice</td>\n",
       "    </tr>\n",
       "  </tbody>\n",
       "</table>\n",
       "</div>"
      ],
      "text/plain": [
       "     Product_ID   Sale_Date Sales_Rep Region  Sales_Amount  Quantity_Sold  \\\n",
       "995        1010  2023-04-15   Charlie  North       4733.88              4   \n",
       "996        1067  2023-09-07       Bob  North       4716.36             37   \n",
       "997        1018  2023-04-27     David  South       7629.70             17   \n",
       "998        1100  2023-12-20     David   West       1629.47             39   \n",
       "999        1086  2023-08-16     Alice   East       4923.93             48   \n",
       "\n",
       "    Product_Category  Unit_Cost  Unit_Price Customer_Type  Discount  \\\n",
       "995             Food    4943.03     5442.15     Returning      0.29   \n",
       "996         Clothing    1754.32     1856.40           New      0.21   \n",
       "997         Clothing     355.72      438.27     Returning      0.06   \n",
       "998      Electronics    3685.03     3743.39           New      0.01   \n",
       "999             Food    2632.58     2926.68     Returning      0.14   \n",
       "\n",
       "    Payment_Method Sales_Channel Region_and_Sales_Rep  \n",
       "995           Cash        Online        North-Charlie  \n",
       "996  Bank Transfer        Retail            North-Bob  \n",
       "997  Bank Transfer        Online          South-David  \n",
       "998  Bank Transfer        Online           West-David  \n",
       "999           Cash        Online           East-Alice  "
      ]
     },
     "execution_count": 5,
     "metadata": {},
     "output_type": "execute_result"
    }
   ],
   "source": [
    "df.tail()"
   ]
  },
  {
   "cell_type": "markdown",
   "id": "44e76e80-151c-41d7-8cca-92bfff7877a6",
   "metadata": {},
   "source": [
    "# Check/Handle Null Values"
   ]
  },
  {
   "cell_type": "code",
   "execution_count": 6,
   "id": "be1f0969-b1c1-44c9-81ae-41fb47a80345",
   "metadata": {},
   "outputs": [
    {
     "name": "stdout",
     "output_type": "stream",
     "text": [
      "<class 'pandas.core.frame.DataFrame'>\n",
      "RangeIndex: 1000 entries, 0 to 999\n",
      "Data columns (total 14 columns):\n",
      " #   Column                Non-Null Count  Dtype  \n",
      "---  ------                --------------  -----  \n",
      " 0   Product_ID            1000 non-null   int64  \n",
      " 1   Sale_Date             1000 non-null   object \n",
      " 2   Sales_Rep             1000 non-null   object \n",
      " 3   Region                1000 non-null   object \n",
      " 4   Sales_Amount          1000 non-null   float64\n",
      " 5   Quantity_Sold         1000 non-null   int64  \n",
      " 6   Product_Category      1000 non-null   object \n",
      " 7   Unit_Cost             1000 non-null   float64\n",
      " 8   Unit_Price            1000 non-null   float64\n",
      " 9   Customer_Type         1000 non-null   object \n",
      " 10  Discount              1000 non-null   float64\n",
      " 11  Payment_Method        1000 non-null   object \n",
      " 12  Sales_Channel         1000 non-null   object \n",
      " 13  Region_and_Sales_Rep  1000 non-null   object \n",
      "dtypes: float64(4), int64(2), object(8)\n",
      "memory usage: 109.5+ KB\n"
     ]
    }
   ],
   "source": [
    "df.info()"
   ]
  },
  {
   "cell_type": "code",
   "execution_count": 7,
   "id": "0e97bf15-ac3a-435e-b959-997a14b59d6d",
   "metadata": {},
   "outputs": [
    {
     "data": {
      "image/png": "[encoded data removed]",
      "text/plain": [
       "<Figure size 640x480 with 2 Axes>"
      ]
     },
     "metadata": {},
     "output_type": "display_data"
    }
   ],
   "source": [
    "sns.heatmap(df.isna())\n",
    "plt.show()"
   ]
  },
  {
   "cell_type": "markdown",
   "id": "2bdc1f5f-3a04-47c8-9167-dc7e7befb3f9",
   "metadata": {},
   "source": [
    "# Check/Handle Duplicates"
   ]
  },
  {
   "cell_type": "code",
   "execution_count": 8,
   "id": "05daf05c-bd79-467d-8a4f-a99bcbd11521",
   "metadata": {},
   "outputs": [
    {
     "name": "stdout",
     "output_type": "stream",
     "text": [
      "Are there any duplicates ? False\n"
     ]
    }
   ],
   "source": [
    "print('Are there any duplicates ?',df.duplicated().any())"
   ]
  },
  {
   "cell_type": "markdown",
   "id": "32c60075-339d-47d8-a6da-a68483a92e84",
   "metadata": {},
   "source": [
    "# Data Preprocessing"
   ]
  },
  {
   "cell_type": "code",
   "execution_count": 9,
   "id": "d96025fc-517f-4456-a0a0-5fbd25325ddf",
   "metadata": {},
   "outputs": [
    {
     "data": {
      "text/plain": [
       "Index(['Product_ID', 'Sale_Date', 'Sales_Rep', 'Region', 'Sales_Amount',\n",
       "       'Quantity_Sold', 'Product_Category', 'Unit_Cost', 'Unit_Price',\n",
       "       'Customer_Type', 'Discount', 'Payment_Method', 'Sales_Channel',\n",
       "       'Region_and_Sales_Rep'],\n",
       "      dtype='object')"
      ]
     },
     "execution_count": 9,
     "metadata": {},
     "output_type": "execute_result"
    }
   ],
   "source": [
    "df.columns"
   ]
  },
  {
   "cell_type": "code",
   "execution_count": 10,
   "id": "31cb2bb6-1ff5-4efb-9279-aae0db5c271a",
   "metadata": {},
   "outputs": [
    {
     "data": {
      "text/plain": [
       "Product_ID                int64\n",
       "Sale_Date                object\n",
       "Sales_Rep                object\n",
       "Region                   object\n",
       "Sales_Amount            float64\n",
       "Quantity_Sold             int64\n",
       "Product_Category         object\n",
       "Unit_Cost               float64\n",
       "Unit_Price              float64\n",
       "Customer_Type            object\n",
       "Discount                float64\n",
       "Payment_Method           object\n",
       "Sales_Channel            object\n",
       "Region_and_Sales_Rep     object\n",
       "dtype: object"
      ]
     },
     "execution_count": 10,
     "metadata": {},
     "output_type": "execute_result"
    }
   ],
   "source": [
    "df.dtypes"
   ]
  },
  {
   "cell_type": "markdown",
   "id": "1f5969e2-19bf-453a-b393-91252c265dc8",
   "metadata": {},
   "source": [
    "####  **Create proper date format**"
   ]
  },
  {
   "cell_type": "code",
   "execution_count": 11,
   "id": "623556dc-42dc-426a-a111-fe55e90d0b1b",
   "metadata": {},
   "outputs": [],
   "source": [
    "df['Sale_Date']=pd.to_datetime(df['Sale_Date'])"
   ]
  },
  {
   "cell_type": "markdown",
   "id": "e43a7b5c-3a66-4ea5-b2b9-f4c60cad3d79",
   "metadata": {},
   "source": [
    "####  **Create new Sales Column**"
   ]
  },
  {
   "cell_type": "code",
   "execution_count": 12,
   "id": "056db1e9-4ef5-4ef1-bc97-f51fd238568b",
   "metadata": {},
   "outputs": [],
   "source": [
    "df['sales']=df['Unit_Price']*df['Quantity_Sold']"
   ]
  },
  {
   "cell_type": "markdown",
   "id": "c629ca64-1e2f-4126-b74c-6ef2ed74e917",
   "metadata": {},
   "source": [
    "####  **Create new Cost of sales Column**"
   ]
  },
  {
   "cell_type": "code",
   "execution_count": 13,
   "id": "525483e0-ae79-4b3a-9fcf-d995891ff62a",
   "metadata": {},
   "outputs": [],
   "source": [
    "df['cost_of_sales']=df['Unit_Cost']*df['Quantity_Sold']"
   ]
  },
  {
   "cell_type": "markdown",
   "id": "c81e90f3-31b1-47ec-8ed1-6ed6196ba8a2",
   "metadata": {},
   "source": [
    "####  **Create Gross Margin Column**"
   ]
  },
  {
   "cell_type": "code",
   "execution_count": 14,
   "id": "3b25317a-ec10-455d-84d8-218e887a7072",
   "metadata": {},
   "outputs": [],
   "source": [
    "df['gross margin']=df['sales']-df['cost_of_sales']"
   ]
  },
  {
   "cell_type": "markdown",
   "id": "c4010193-d4ae-4844-ad41-4d6071ee94c3",
   "metadata": {},
   "source": [
    "####  **Drop unused columns**"
   ]
  },
  {
   "cell_type": "code",
   "execution_count": 15,
   "id": "cdb4758d-8535-4a86-affb-4008f79b2d57",
   "metadata": {},
   "outputs": [],
   "source": [
    "df.drop(axis=1,columns=['Sales_Amount','Discount','Region_and_Sales_Rep'],inplace=True)"
   ]
  },
  {
   "cell_type": "markdown",
   "id": "b2d1fbe3-4d23-4858-b179-53751ccf87d7",
   "metadata": {},
   "source": [
    "####  **Rename columns**"
   ]
  },
  {
   "cell_type": "code",
   "execution_count": 16,
   "id": "c322154d-5614-486e-99be-823433c033c9",
   "metadata": {},
   "outputs": [],
   "source": [
    "df.columns=['product_ID', 'sale_date', 'sales_rep', 'region', 'quantity_Sold',\n",
    "       'product_category', 'unit_cost', 'unit_price', 'customer_type',\n",
    "       'payment_method', 'sales_channel', 'sales', 'cost_of_sales',\n",
    "       'gross margin']"
   ]
  },
  {
   "cell_type": "markdown",
   "id": "4477d3de-1316-4c3a-93f7-f27e8fae3aa5",
   "metadata": {},
   "source": [
    "####  **Create month column**"
   ]
  },
  {
   "cell_type": "code",
   "execution_count": 17,
   "id": "0fc8a59c-c884-49f5-8fa2-eb07fa5ccadc",
   "metadata": {},
   "outputs": [],
   "source": [
    "df['month']=df['sale_date'].dt.month"
   ]
  },
  {
   "cell_type": "markdown",
   "id": "1ecaa132-6f4f-4200-846b-6ac7c640a84d",
   "metadata": {},
   "source": [
    "# Check/Handle Categorical or Ordinal data"
   ]
  },
  {
   "cell_type": "code",
   "execution_count": 18,
   "id": "4d4893e0-bb4d-45c0-b772-5cb7b570ecd8",
   "metadata": {},
   "outputs": [
    {
     "data": {
      "text/plain": [
       "Index(['product_ID', 'sale_date', 'sales_rep', 'region', 'quantity_Sold',\n",
       "       'product_category', 'unit_cost', 'unit_price', 'customer_type',\n",
       "       'payment_method', 'sales_channel', 'sales', 'cost_of_sales',\n",
       "       'gross margin', 'month'],\n",
       "      dtype='object')"
      ]
     },
     "execution_count": 18,
     "metadata": {},
     "output_type": "execute_result"
    }
   ],
   "source": [
    "df.columns"
   ]
  },
  {
   "cell_type": "code",
   "execution_count": 19,
   "id": "1ce79f35-89c6-4944-bbfb-151ad99a36cc",
   "metadata": {},
   "outputs": [
    {
     "data": {
      "text/plain": [
       "array(['Bob', 'David', 'Charlie', 'Eve', 'Alice'], dtype=object)"
      ]
     },
     "execution_count": 19,
     "metadata": {},
     "output_type": "execute_result"
    }
   ],
   "source": [
    "df['sales_rep'].unique()"
   ]
  },
  {
   "cell_type": "code",
   "execution_count": 20,
   "id": "ee824ced-1af0-473f-83c7-506d73590097",
   "metadata": {},
   "outputs": [
    {
     "data": {
      "text/plain": [
       "array(['North', 'West', 'South', 'East'], dtype=object)"
      ]
     },
     "execution_count": 20,
     "metadata": {},
     "output_type": "execute_result"
    }
   ],
   "source": [
    "df['region'].unique()"
   ]
  },
  {
   "cell_type": "code",
   "execution_count": 21,
   "id": "613b6212-4d76-46f3-a5f3-0b51f0d1b94c",
   "metadata": {},
   "outputs": [
    {
     "data": {
      "text/plain": [
       "array(['Furniture', 'Food', 'Clothing', 'Electronics'], dtype=object)"
      ]
     },
     "execution_count": 21,
     "metadata": {},
     "output_type": "execute_result"
    }
   ],
   "source": [
    "df['product_category'].unique()"
   ]
  },
  {
   "cell_type": "code",
   "execution_count": 22,
   "id": "9a51449b-1220-432a-b80b-17ab42df0abb",
   "metadata": {},
   "outputs": [
    {
     "data": {
      "text/plain": [
       "array(['Returning', 'New'], dtype=object)"
      ]
     },
     "execution_count": 22,
     "metadata": {},
     "output_type": "execute_result"
    }
   ],
   "source": [
    "df['customer_type'].unique()"
   ]
  },
  {
   "cell_type": "code",
   "execution_count": 23,
   "id": "36d8d473-7085-4c77-93cf-acdd667ea676",
   "metadata": {},
   "outputs": [
    {
     "data": {
      "text/plain": [
       "array(['Cash', 'Bank Transfer', 'Credit Card'], dtype=object)"
      ]
     },
     "execution_count": 23,
     "metadata": {},
     "output_type": "execute_result"
    }
   ],
   "source": [
    "df['payment_method'].unique()"
   ]
  },
  {
   "cell_type": "code",
   "execution_count": 24,
   "id": "cf9915db-21cc-4ac1-87cc-f750a211ef98",
   "metadata": {},
   "outputs": [
    {
     "data": {
      "text/plain": [
       "array(['Online', 'Retail'], dtype=object)"
      ]
     },
     "execution_count": 24,
     "metadata": {},
     "output_type": "execute_result"
    }
   ],
   "source": [
    "df['sales_channel'].unique()"
   ]
  },
  {
   "cell_type": "code",
   "execution_count": 25,
   "id": "d45e5b8e-6477-4438-951b-78990085ebcf",
   "metadata": {},
   "outputs": [
    {
     "data": {
      "text/plain": [
       "Index(['product_ID', 'sale_date', 'sales_rep', 'region', 'quantity_Sold',\n",
       "       'product_category', 'unit_cost', 'unit_price', 'customer_type',\n",
       "       'payment_method', 'sales_channel', 'sales', 'cost_of_sales',\n",
       "       'gross margin', 'month'],\n",
       "      dtype='object')"
      ]
     },
     "execution_count": 25,
     "metadata": {},
     "output_type": "execute_result"
    }
   ],
   "source": [
    "df.columns"
   ]
  },
  {
   "cell_type": "code",
   "execution_count": 26,
   "id": "672ba027-c47c-43fd-9ce1-00b83c3a851c",
   "metadata": {},
   "outputs": [],
   "source": [
    "from pathlib import Path  # doctest: +SKIP\n",
    "filepath = Path(r'C:\\Users\\User\\Downloads\\SQL\\PROJECTS\\salesdata.csv')  # doctest: +SKIP\n",
    "filepath.parent.mkdir(parents=True, exist_ok=True)  # doctest: +SKIP\n",
    "df.to_csv(filepath,columns= ['product_ID', 'sale_date', 'sales_rep', 'region', 'quantity_Sold',\n",
    "       'product_category', 'unit_cost', 'unit_price', 'customer_type',\n",
    "       'payment_method', 'sales_channel', 'sales', 'cost_of_sales',\n",
    "       'gross margin'],header= True,\n",
    "        index = True,)  # doctest: +SKIP"
   ]
  },
  {
   "cell_type": "code",
   "execution_count": 27,
   "id": "a173ddca-1098-49b2-a9a4-673ab5d0a5f3",
   "metadata": {},
   "outputs": [
    {
     "data": {
      "text/plain": [
       "100"
      ]
     },
     "execution_count": 27,
     "metadata": {},
     "output_type": "execute_result"
    }
   ],
   "source": [
    "df['product_ID'].nunique()"
   ]
  },
  {
   "cell_type": "markdown",
   "id": "91c565fe-869b-4a5e-b974-0190885b96ee",
   "metadata": {},
   "source": [
    "# Data Exploration"
   ]
  },
  {
   "cell_type": "markdown",
   "id": "f094fb7d-53ae-4271-96ea-6ea77b7e49c0",
   "metadata": {},
   "source": [
    "### 1. Analysis of Sales,Cost and Gross Margin"
   ]
  },
  {
   "cell_type": "code",
   "execution_count": 28,
   "id": "ef950bad-668c-4f44-90dd-fd7baad4e165",
   "metadata": {},
   "outputs": [
    {
     "name": "stdout",
     "output_type": "stream",
     "text": [
      "Total Sales = 70329941\n"
     ]
    }
   ],
   "source": [
    "print('Total Sales =',round(df['sales'].sum()))"
   ]
  },
  {
   "cell_type": "code",
   "execution_count": 29,
   "id": "fc7470d9-0716-4c76-9719-44137baf381f",
   "metadata": {},
   "outputs": [
    {
     "name": "stdout",
     "output_type": "stream",
     "text": [
      "Total Cogs = 63842093.64\n"
     ]
    }
   ],
   "source": [
    "print('Total Cogs =',df['cost_of_sales'].sum())"
   ]
  },
  {
   "cell_type": "code",
   "execution_count": 30,
   "id": "6f8f6c6d-5b38-464a-baad-182ebfc42354",
   "metadata": {},
   "outputs": [
    {
     "name": "stdout",
     "output_type": "stream",
     "text": [
      "Gross Profit = 6487847.07\n"
     ]
    }
   ],
   "source": [
    "print('Gross Profit =',df['gross margin'].sum())"
   ]
  },
  {
   "cell_type": "code",
   "execution_count": 31,
   "id": "3ab4932e-d4cf-414e-b986-c056b3cba34b",
   "metadata": {},
   "outputs": [
    {
     "name": "stdout",
     "output_type": "stream",
     "text": [
      "Gross Profit% = 0.09\n"
     ]
    }
   ],
   "source": [
    "print('Gross Profit% =',round(df['gross margin'].sum()/df['sales'].sum(),2))"
   ]
  },
  {
   "cell_type": "markdown",
   "id": "3bec67f0-25f6-4eb2-8a60-872d37d832f0",
   "metadata": {},
   "source": [
    "###### **MoM change Sales**"
   ]
  },
  {
   "cell_type": "code",
   "execution_count": 32,
   "id": "add48016-2257-4559-84ab-6ddc5e29c7e1",
   "metadata": {},
   "outputs": [
    {
     "data": {
      "text/plain": [
       "month\n",
       "1     7488100.51\n",
       "2     5627477.45\n",
       "3     6008259.41\n",
       "4     5468497.62\n",
       "5     5800626.51\n",
       "6     6142561.23\n",
       "7     4751432.42\n",
       "8     6716190.61\n",
       "9     4557015.58\n",
       "10    6560606.39\n",
       "11    4958930.19\n",
       "12    6250242.79\n",
       "Name: sales, dtype: float64"
      ]
     },
     "execution_count": 32,
     "metadata": {},
     "output_type": "execute_result"
    }
   ],
   "source": [
    "df.groupby('month')['sales'].sum()"
   ]
  },
  {
   "cell_type": "code",
   "execution_count": 33,
   "id": "47f16e6a-2a84-4cee-a6f1-596f764bf704",
   "metadata": {},
   "outputs": [
    {
     "data": {
      "text/plain": [
       "month\n",
       "1            NaN\n",
       "2     7488100.51\n",
       "3     5627477.45\n",
       "4     6008259.41\n",
       "5     5468497.62\n",
       "6     5800626.51\n",
       "7     6142561.23\n",
       "8     4751432.42\n",
       "9     6716190.61\n",
       "10    4557015.58\n",
       "11    6560606.39\n",
       "12    4958930.19\n",
       "Name: sales, dtype: float64"
      ]
     },
     "execution_count": 33,
     "metadata": {},
     "output_type": "execute_result"
    }
   ],
   "source": [
    "df.groupby('month')['sales'].sum().shift(1)"
   ]
  },
  {
   "cell_type": "code",
   "execution_count": 34,
   "id": "da2e0e6f-1605-488d-a187-4f13e08a7695",
   "metadata": {},
   "outputs": [
    {
     "data": {
      "text/plain": [
       "month\n",
       "1            NaN\n",
       "2    -1860623.06\n",
       "3      380781.96\n",
       "4     -539761.79\n",
       "5      332128.89\n",
       "6      341934.72\n",
       "7    -1391128.81\n",
       "8     1964758.19\n",
       "9    -2159175.03\n",
       "10    2003590.81\n",
       "11   -1601676.20\n",
       "12    1291312.60\n",
       "Name: sales, dtype: float64"
      ]
     },
     "execution_count": 34,
     "metadata": {},
     "output_type": "execute_result"
    }
   ],
   "source": [
    "df.groupby('month')['sales'].sum()-df.groupby('month')['sales'].sum().shift(1)"
   ]
  },
  {
   "cell_type": "code",
   "execution_count": 35,
   "id": "ba8af199-59fd-4d41-838b-770ab0de8c88",
   "metadata": {},
   "outputs": [
    {
     "data": {
      "text/plain": [
       "month\n",
       "1      NaN\n",
       "2    -0.25\n",
       "3     0.07\n",
       "4    -0.09\n",
       "5     0.06\n",
       "6     0.06\n",
       "7    -0.23\n",
       "8     0.41\n",
       "9    -0.32\n",
       "10    0.44\n",
       "11   -0.24\n",
       "12    0.26\n",
       "Name: sales, dtype: float64"
      ]
     },
     "execution_count": 35,
     "metadata": {},
     "output_type": "execute_result"
    }
   ],
   "source": [
    "round((df.groupby('month')['sales'].sum()-df.groupby('month')['sales'].sum().shift(1))/df.groupby('month')['sales'].sum().shift(1),2)"
   ]
  },
  {
   "cell_type": "markdown",
   "id": "6691eb53-a4d3-48b2-8295-b5ac54cfa699",
   "metadata": {},
   "source": [
    "# 2. Sales by categorical data"
   ]
  },
  {
   "cell_type": "markdown",
   "id": "8605ae1f-b6b0-4ea3-8aa9-9dd9b74a5464",
   "metadata": {},
   "source": [
    "###### **Rep sales by value**"
   ]
  },
  {
   "cell_type": "code",
   "execution_count": 36,
   "id": "cba353b1-256a-4f18-a9f3-6a3b8c6d0a2e",
   "metadata": {},
   "outputs": [
    {
     "data": {
      "text/plain": [
       "sales_rep\n",
       "David      16395583.95\n",
       "Eve        15271749.44\n",
       "Bob        13712628.18\n",
       "Alice      13397730.09\n",
       "Charlie    11552249.05\n",
       "Name: sales, dtype: float64"
      ]
     },
     "execution_count": 36,
     "metadata": {},
     "output_type": "execute_result"
    }
   ],
   "source": [
    "df.groupby('sales_rep')['sales'].sum().sort_values(ascending=False)"
   ]
  },
  {
   "cell_type": "markdown",
   "id": "20a8ce9e-b041-4f51-a4de-d4af544216f7",
   "metadata": {},
   "source": [
    "###### ***David is the leading sales rep***"
   ]
  },
  {
   "cell_type": "code",
   "execution_count": 37,
   "id": "a6b88337-4a31-4d80-bb9c-9b334e0a82ea",
   "metadata": {},
   "outputs": [
    {
     "data": {
      "text/plain": [
       "product_category  sales_rep\n",
       "Clothing          Eve          4877203.67\n",
       "Electronics       David        4803663.70\n",
       "Furniture         David        4410486.87\n",
       "                  Bob          4363361.78\n",
       "Clothing          David        3883204.91\n",
       "Furniture         Eve          3857673.79\n",
       "Electronics       Eve          3703988.24\n",
       "Clothing          Charlie      3702554.37\n",
       "Food              Alice        3438287.91\n",
       "Clothing          Bob          3423701.61\n",
       "                  Alice        3400069.37\n",
       "Electronics       Alice        3330930.43\n",
       "Food              David        3298228.47\n",
       "Furniture         Alice        3228442.38\n",
       "Food              Bob          3148524.98\n",
       "Electronics       Charlie      2955418.39\n",
       "Food              Eve          2832883.74\n",
       "Electronics       Bob          2777039.81\n",
       "Furniture         Charlie      2470315.74\n",
       "Food              Charlie      2423960.55\n",
       "Name: sales, dtype: float64"
      ]
     },
     "execution_count": 37,
     "metadata": {},
     "output_type": "execute_result"
    }
   ],
   "source": [
    "df.groupby(['product_category','sales_rep'])['sales'].sum().sort_values(ascending=False)"
   ]
  },
  {
   "cell_type": "markdown",
   "id": "a44ecc28-bd43-4f1e-b89a-43d829af6249",
   "metadata": {},
   "source": [
    "###### ***Eve is the leading clothing sales rep,in spite of David being the overall leading sales rep***"
   ]
  },
  {
   "cell_type": "code",
   "execution_count": 38,
   "id": "606afa1d-0aef-477b-a43c-cac54245e018",
   "metadata": {},
   "outputs": [
    {
     "data": {
      "text/plain": [
       "region  sales_rep\n",
       "North   David        4850649.65\n",
       "East    David        4141732.92\n",
       "South   Eve          4046329.40\n",
       "North   Eve          3938643.56\n",
       "West    Bob          3930879.07\n",
       "        David        3890350.24\n",
       "East    Alice        3866647.81\n",
       "        Bob          3708093.27\n",
       "West    Eve          3673805.20\n",
       "East    Eve          3612971.28\n",
       "South   Alice        3537229.80\n",
       "        David        3512851.14\n",
       "West    Charlie      3465872.34\n",
       "North   Bob          3295469.98\n",
       "        Alice        3193190.68\n",
       "        Charlie      2930449.98\n",
       "West    Alice        2800661.80\n",
       "South   Bob          2778185.86\n",
       "East    Charlie      2747955.77\n",
       "South   Charlie      2407970.96\n",
       "Name: sales, dtype: float64"
      ]
     },
     "execution_count": 38,
     "metadata": {},
     "output_type": "execute_result"
    }
   ],
   "source": [
    "df.groupby(['region','sales_rep'])['sales'].sum().sort_values(ascending=False)"
   ]
  },
  {
   "cell_type": "markdown",
   "id": "6d866796-19c9-4f96-95df-63aa2fae60cf",
   "metadata": {},
   "source": [
    "###### ***David is the leading sales rep in the North and East region whilst Eve is the leader in the South and second in the North to David***"
   ]
  },
  {
   "cell_type": "code",
   "execution_count": 39,
   "id": "9c1866dc-f19f-4099-930b-d2cf508f13cf",
   "metadata": {},
   "outputs": [
    {
     "data": {
      "text/plain": [
       "customer_type  sales_rep\n",
       "New            David        8472173.69\n",
       "               Eve          8125361.71\n",
       "Returning      David        7923410.26\n",
       "               Eve          7146387.73\n",
       "New            Alice        7130918.96\n",
       "               Bob          6983746.51\n",
       "Returning      Bob          6728881.67\n",
       "               Alice        6266811.13\n",
       "New            Charlie      5817061.14\n",
       "Returning      Charlie      5735187.91\n",
       "Name: sales, dtype: float64"
      ]
     },
     "execution_count": 39,
     "metadata": {},
     "output_type": "execute_result"
    }
   ],
   "source": [
    "df.groupby(['customer_type','sales_rep'])['sales'].sum().sort_values(ascending=False)"
   ]
  },
  {
   "cell_type": "markdown",
   "id": "a2249066-76c6-40b7-948f-832c27c43f79",
   "metadata": {},
   "source": [
    "###### ***David is the leading sales rep by customer type and followed by Eve***"
   ]
  },
  {
   "cell_type": "code",
   "execution_count": 40,
   "id": "0208d278-3af8-4f0e-a0f1-7995124adab0",
   "metadata": {},
   "outputs": [
    {
     "data": {
      "text/plain": [
       "sales_channel  sales_rep\n",
       "Retail         David        8465371.06\n",
       "Online         David        7930212.89\n",
       "Retail         Eve          7866518.18\n",
       "Online         Eve          7405231.26\n",
       "               Alice        7368995.67\n",
       "Retail         Bob          7017574.85\n",
       "Online         Bob          6695053.33\n",
       "               Charlie      6340214.05\n",
       "Retail         Alice        6028734.42\n",
       "               Charlie      5212035.00\n",
       "Name: sales, dtype: float64"
      ]
     },
     "execution_count": 40,
     "metadata": {},
     "output_type": "execute_result"
    }
   ],
   "source": [
    "df.groupby(['sales_channel','sales_rep'])['sales'].sum().sort_values(ascending=False)"
   ]
  },
  {
   "cell_type": "markdown",
   "id": "c73e89c5-e054-4b8d-b4d3-c82a63146c6e",
   "metadata": {},
   "source": [
    "###### ***David leads both sales channel***"
   ]
  },
  {
   "cell_type": "markdown",
   "id": "c910e7b5-dd43-4143-8a09-3cd9d862d5ae",
   "metadata": {},
   "source": [
    "###### **Regional sales by value**"
   ]
  },
  {
   "cell_type": "code",
   "execution_count": 41,
   "id": "56a32505-1009-4441-8f59-818f40b97b43",
   "metadata": {},
   "outputs": [
    {
     "data": {
      "text/plain": [
       "region\n",
       "North    18208403.85\n",
       "East     18077401.05\n",
       "West     17761568.65\n",
       "South    16282567.16\n",
       "Name: sales, dtype: float64"
      ]
     },
     "execution_count": 41,
     "metadata": {},
     "output_type": "execute_result"
    }
   ],
   "source": [
    "df.groupby('region')['sales'].sum().sort_values(ascending=False)"
   ]
  },
  {
   "cell_type": "markdown",
   "id": "d8cd80e6-c325-4069-9f9b-68510e251bd0",
   "metadata": {},
   "source": [
    "###### ***The North is the leading region by sales***"
   ]
  },
  {
   "cell_type": "code",
   "execution_count": 42,
   "id": "ceded9b7-8a9a-4cc1-8f9e-f40cc277caf0",
   "metadata": {},
   "outputs": [
    {
     "data": {
      "text/plain": [
       "product_category  region\n",
       "Furniture         West      5177884.31\n",
       "Clothing          North     5154802.46\n",
       "Furniture         North     4967389.93\n",
       "Electronics       East      4966020.72\n",
       "Clothing          East      4954937.56\n",
       "                  West      4610984.53\n",
       "                  South     4566009.38\n",
       "Electronics       West      4480313.39\n",
       "                  North     4407194.44\n",
       "Furniture         East      4122323.47\n",
       "                  South     4062682.85\n",
       "Food              East      4034119.30\n",
       "                  South     3936362.91\n",
       "Electronics       South     3717512.02\n",
       "Food              North     3679017.02\n",
       "                  West      3492386.42\n",
       "Name: sales, dtype: float64"
      ]
     },
     "execution_count": 42,
     "metadata": {},
     "output_type": "execute_result"
    }
   ],
   "source": [
    "df.groupby(['product_category','region'])['sales'].sum().sort_values(ascending=False)"
   ]
  },
  {
   "cell_type": "markdown",
   "id": "fb34f6f9-0808-49a0-9af7-3d71c5068d40",
   "metadata": {},
   "source": [
    "###### ***The West region is the leading region when it comes to furniture sales***"
   ]
  },
  {
   "cell_type": "code",
   "execution_count": 81,
   "id": "5926c0e3-1455-4557-9f25-bae44737df05",
   "metadata": {},
   "outputs": [
    {
     "data": {
      "text/plain": [
       "sales_channel  region\n",
       "Online         North     9759076.35\n",
       "Retail         East      9652090.47\n",
       "Online         West      9131628.75\n",
       "Retail         West      8629939.90\n",
       "               North     8449327.50\n",
       "Online         East      8425310.58\n",
       "               South     8423691.52\n",
       "Retail         South     7858875.64\n",
       "Name: sales, dtype: float64"
      ]
     },
     "execution_count": 81,
     "metadata": {},
     "output_type": "execute_result"
    }
   ],
   "source": [
    "df.groupby(['sales_channel','region'])['sales'].sum().sort_values(ascending=False)"
   ]
  },
  {
   "cell_type": "markdown",
   "id": "a24ac57f-70d6-4525-8d5b-b2471d1f7755",
   "metadata": {},
   "source": [
    "###### ***Online sales dominate the North region***"
   ]
  },
  {
   "cell_type": "code",
   "execution_count": 82,
   "id": "84ebdc73-45d8-454f-aef4-2b3b95f919ee",
   "metadata": {},
   "outputs": [
    {
     "data": {
      "text/plain": [
       "customer_type  region\n",
       "New            East      10261466.70\n",
       "               North     10110284.04\n",
       "Returning      West       9270444.22\n",
       "               South      8616180.32\n",
       "New            West       8491124.43\n",
       "Returning      North      8098119.81\n",
       "               East       7815934.35\n",
       "New            South      7666386.84\n",
       "Name: sales, dtype: float64"
      ]
     },
     "execution_count": 82,
     "metadata": {},
     "output_type": "execute_result"
    }
   ],
   "source": [
    "df.groupby(['customer_type','region'])['sales'].sum().sort_values(ascending=False)"
   ]
  },
  {
   "cell_type": "markdown",
   "id": "f3e0d939-0054-4d30-83c5-9fde39664e34",
   "metadata": {},
   "source": [
    "###### ***New customers are more dominant in the East followed by the North region. Returning customers are more dominant in the West.***"
   ]
  },
  {
   "cell_type": "code",
   "execution_count": 83,
   "id": "fa0f3e72-5e34-4c07-b2df-102157ab016d",
   "metadata": {},
   "outputs": [
    {
     "data": {
      "text/plain": [
       "product_category\n",
       "Clothing       19286733.93\n",
       "Furniture      18330280.56\n",
       "Electronics    17571040.57\n",
       "Food           15141885.65\n",
       "Name: sales, dtype: float64"
      ]
     },
     "execution_count": 83,
     "metadata": {},
     "output_type": "execute_result"
    }
   ],
   "source": [
    "df.groupby('product_category')['sales'].sum().sort_values(ascending=False)"
   ]
  },
  {
   "cell_type": "markdown",
   "id": "62f2aa19-d3ec-43f0-bfdc-526165892792",
   "metadata": {},
   "source": [
    "###### ***Clothing is the leader in products.***\n"
   ]
  },
  {
   "cell_type": "code",
   "execution_count": 84,
   "id": "1374a570-a600-4fd7-9f4e-1e5685e8056b",
   "metadata": {},
   "outputs": [
    {
     "data": {
      "text/plain": [
       "region  product_category\n",
       "West    Furniture           5177884.31\n",
       "North   Clothing            5154802.46\n",
       "        Furniture           4967389.93\n",
       "East    Electronics         4966020.72\n",
       "        Clothing            4954937.56\n",
       "West    Clothing            4610984.53\n",
       "South   Clothing            4566009.38\n",
       "West    Electronics         4480313.39\n",
       "North   Electronics         4407194.44\n",
       "East    Furniture           4122323.47\n",
       "South   Furniture           4062682.85\n",
       "East    Food                4034119.30\n",
       "South   Food                3936362.91\n",
       "        Electronics         3717512.02\n",
       "North   Food                3679017.02\n",
       "West    Food                3492386.42\n",
       "Name: sales, dtype: float64"
      ]
     },
     "execution_count": 84,
     "metadata": {},
     "output_type": "execute_result"
    }
   ],
   "source": [
    "df.groupby(['region','product_category'])['sales'].sum().sort_values(ascending=False)"
   ]
  },
  {
   "cell_type": "markdown",
   "id": "b3e73ce7-e9ce-41f1-be08-c6a0a02b900b",
   "metadata": {},
   "source": [
    "###### ***The West region is dominant with Furniture sales and the North with Clothing***"
   ]
  },
  {
   "cell_type": "code",
   "execution_count": 85,
   "id": "382dfdc3-4168-4aad-b2ef-a13c0b0b13a2",
   "metadata": {},
   "outputs": [
    {
     "data": {
      "text/plain": [
       "sales_channel  product_category\n",
       "Retail         Clothing            10894211.24\n",
       "Online         Electronics         10023463.56\n",
       "               Furniture            9735027.83\n",
       "Retail         Furniture            8595252.73\n",
       "Online         Clothing             8392522.69\n",
       "               Food                 7588693.12\n",
       "Retail         Food                 7553192.53\n",
       "               Electronics          7547577.01\n",
       "Name: sales, dtype: float64"
      ]
     },
     "execution_count": 85,
     "metadata": {},
     "output_type": "execute_result"
    }
   ],
   "source": [
    "df.groupby(['sales_channel','product_category'])['sales'].sum().sort_values(ascending=False)"
   ]
  },
  {
   "cell_type": "markdown",
   "id": "ff247d73-b907-4fbd-94b6-267b9588d438",
   "metadata": {},
   "source": [
    "###### ***Retail dominantes with Clothing,whilst online is dominant in electronics even though electronics is the third overall in terms of sales.***"
   ]
  },
  {
   "cell_type": "code",
   "execution_count": 86,
   "id": "fc14617e-18d0-4e00-a8fe-8b09a17672f6",
   "metadata": {},
   "outputs": [
    {
     "data": {
      "text/plain": [
       "sales_rep  product_category\n",
       "Eve        Clothing            4877203.67\n",
       "David      Electronics         4803663.70\n",
       "           Furniture           4410486.87\n",
       "Bob        Furniture           4363361.78\n",
       "David      Clothing            3883204.91\n",
       "Eve        Furniture           3857673.79\n",
       "           Electronics         3703988.24\n",
       "Charlie    Clothing            3702554.37\n",
       "Alice      Food                3438287.91\n",
       "Bob        Clothing            3423701.61\n",
       "Alice      Clothing            3400069.37\n",
       "           Electronics         3330930.43\n",
       "David      Food                3298228.47\n",
       "Alice      Furniture           3228442.38\n",
       "Bob        Food                3148524.98\n",
       "Charlie    Electronics         2955418.39\n",
       "Eve        Food                2832883.74\n",
       "Bob        Electronics         2777039.81\n",
       "Charlie    Furniture           2470315.74\n",
       "           Food                2423960.55\n",
       "Name: sales, dtype: float64"
      ]
     },
     "execution_count": 86,
     "metadata": {},
     "output_type": "execute_result"
    }
   ],
   "source": [
    "df.groupby(['sales_rep','product_category'])['sales'].sum().sort_values(ascending=False)"
   ]
  },
  {
   "cell_type": "markdown",
   "id": "2cf6e129-97eb-47fa-acab-464d09f632ca",
   "metadata": {},
   "source": [
    "###### ***Eve is the leader when it comes to the clothing category and second only to David overall. David is the leader in the Electronics and Furniture categories***"
   ]
  },
  {
   "cell_type": "code",
   "execution_count": 87,
   "id": "78fa0d14-7457-4142-becc-ce3a70cd427f",
   "metadata": {},
   "outputs": [
    {
     "data": {
      "text/plain": [
       "customer_type  product_category\n",
       "New            Clothing            10749138.80\n",
       "Returning      Furniture           10336014.35\n",
       "New            Electronics          9574541.69\n",
       "Returning      Clothing             8537595.13\n",
       "New            Food                 8211315.31\n",
       "Returning      Electronics          7996498.88\n",
       "New            Furniture            7994266.21\n",
       "Returning      Food                 6930570.34\n",
       "Name: sales, dtype: float64"
      ]
     },
     "execution_count": 87,
     "metadata": {},
     "output_type": "execute_result"
    }
   ],
   "source": [
    "df.groupby(['customer_type','product_category'])['sales'].sum().sort_values(ascending=False)"
   ]
  },
  {
   "cell_type": "markdown",
   "id": "0b759524-31c1-44a3-af99-5bd3dda091ed",
   "metadata": {},
   "source": [
    "###### ***New Customers are dominant in all categories***"
   ]
  },
  {
   "cell_type": "markdown",
   "id": "785e612e-f76e-4292-b124-6fe7e7fa9c66",
   "metadata": {},
   "source": [
    "###### **Channel sales by value**"
   ]
  },
  {
   "cell_type": "code",
   "execution_count": 44,
   "id": "4faac08a-eb5c-44f7-9810-f0b8f4df8f17",
   "metadata": {},
   "outputs": [
    {
     "data": {
      "text/plain": [
       "sales_channel\n",
       "Online    35739707.20\n",
       "Retail    34590233.51\n",
       "Name: sales, dtype: float64"
      ]
     },
     "execution_count": 44,
     "metadata": {},
     "output_type": "execute_result"
    }
   ],
   "source": [
    "df.groupby('sales_channel')['sales'].sum().sort_values(ascending=False)"
   ]
  },
  {
   "cell_type": "markdown",
   "id": "e3609a46-359d-4cb9-8d3a-63609e1a4802",
   "metadata": {},
   "source": [
    "###### ***Online is channel which customers opt for.***"
   ]
  },
  {
   "cell_type": "code",
   "execution_count": 45,
   "id": "2f8c12d4-a97e-4e5d-b38e-c0ab63784ae0",
   "metadata": {},
   "outputs": [
    {
     "data": {
      "text/plain": [
       "region  sales_channel\n",
       "North   Online           9759076.35\n",
       "East    Retail           9652090.47\n",
       "West    Online           9131628.75\n",
       "        Retail           8629939.90\n",
       "North   Retail           8449327.50\n",
       "East    Online           8425310.58\n",
       "South   Online           8423691.52\n",
       "        Retail           7858875.64\n",
       "Name: sales, dtype: float64"
      ]
     },
     "execution_count": 45,
     "metadata": {},
     "output_type": "execute_result"
    }
   ],
   "source": [
    "df.groupby(['region','sales_channel'])['sales'].sum().sort_values(ascending=False)"
   ]
  },
  {
   "cell_type": "markdown",
   "id": "6ff018d6-47d8-42f9-87c8-00fd79729bc9",
   "metadata": {},
   "source": [
    "###### ***North region is dominant in online sale,when the East is more dominant in retail***"
   ]
  },
  {
   "cell_type": "code",
   "execution_count": 46,
   "id": "de4f24e9-a671-4359-9225-79824fa47f9d",
   "metadata": {},
   "outputs": [
    {
     "data": {
      "text/plain": [
       "product_category  sales_channel\n",
       "Clothing          Retail           10894211.24\n",
       "Electronics       Online           10023463.56\n",
       "Furniture         Online            9735027.83\n",
       "                  Retail            8595252.73\n",
       "Clothing          Online            8392522.69\n",
       "Food              Online            7588693.12\n",
       "                  Retail            7553192.53\n",
       "Electronics       Retail            7547577.01\n",
       "Name: sales, dtype: float64"
      ]
     },
     "execution_count": 46,
     "metadata": {},
     "output_type": "execute_result"
    }
   ],
   "source": [
    "df.groupby(['product_category','sales_channel'])['sales'].sum().sort_values(ascending=False)"
   ]
  },
  {
   "cell_type": "markdown",
   "id": "9eb3fec1-9df8-457b-84f3-30677da065f4",
   "metadata": {},
   "source": [
    "###### ***Clothing is more dominant in retail than other products whilst electronics are more dominant online.***"
   ]
  },
  {
   "cell_type": "code",
   "execution_count": 47,
   "id": "6658f25f-b55f-4299-a5b1-46537df06041",
   "metadata": {},
   "outputs": [
    {
     "data": {
      "text/plain": [
       "sales_rep  sales_channel\n",
       "David      Retail           8465371.06\n",
       "           Online           7930212.89\n",
       "Eve        Retail           7866518.18\n",
       "           Online           7405231.26\n",
       "Alice      Online           7368995.67\n",
       "Bob        Retail           7017574.85\n",
       "           Online           6695053.33\n",
       "Charlie    Online           6340214.05\n",
       "Alice      Retail           6028734.42\n",
       "Charlie    Retail           5212035.00\n",
       "Name: sales, dtype: float64"
      ]
     },
     "execution_count": 47,
     "metadata": {},
     "output_type": "execute_result"
    }
   ],
   "source": [
    "df.groupby(['sales_rep','sales_channel'])['sales'].sum().sort_values(ascending=False)"
   ]
  },
  {
   "cell_type": "markdown",
   "id": "06290da0-784f-42d3-9d9f-285b3b11786b",
   "metadata": {},
   "source": [
    "###### ***David is more dominant in Retail than online and Eve as well is more dominant in Retail.***"
   ]
  },
  {
   "cell_type": "markdown",
   "id": "8792c295-e0da-4d32-a03d-475117874e28",
   "metadata": {},
   "source": [
    "###### **Customer Type Sales by value**"
   ]
  },
  {
   "cell_type": "code",
   "execution_count": 89,
   "id": "b8b58643-6c6c-4467-9c97-7b41b3629c6c",
   "metadata": {},
   "outputs": [
    {
     "data": {
      "text/plain": [
       "customer_type\n",
       "New          36529262.01\n",
       "Returning    33800678.70\n",
       "Name: sales, dtype: float64"
      ]
     },
     "execution_count": 89,
     "metadata": {},
     "output_type": "execute_result"
    }
   ],
   "source": [
    "df.groupby('customer_type')['sales'].sum().sort_values(ascending=False)"
   ]
  },
  {
   "cell_type": "code",
   "execution_count": 51,
   "id": "696d32ee-c521-4747-bed0-2d6953dd9186",
   "metadata": {},
   "outputs": [
    {
     "data": {
      "text/plain": [
       "region  customer_type\n",
       "East    New              10261466.70\n",
       "North   New              10110284.04\n",
       "West    Returning         9270444.22\n",
       "South   Returning         8616180.32\n",
       "West    New               8491124.43\n",
       "North   Returning         8098119.81\n",
       "East    Returning         7815934.35\n",
       "South   New               7666386.84\n",
       "Name: sales, dtype: float64"
      ]
     },
     "execution_count": 51,
     "metadata": {},
     "output_type": "execute_result"
    }
   ],
   "source": [
    "df.groupby(['region','customer_type'])['sales'].sum().sort_values(ascending=False)"
   ]
  },
  {
   "cell_type": "markdown",
   "id": "00baa6b9-4313-4b75-b972-6f9108c801ab",
   "metadata": {},
   "source": [
    "###### ***East is dominant when it comes to new customers whilst it is the lowest when it comes to customer retention/repeat. The South is the lowest when it comes to New customers,but is third when it comes to customer retention/repeat customers***"
   ]
  },
  {
   "cell_type": "code",
   "execution_count": 90,
   "id": "85e1454b-388c-43c6-9e32-357244b29dab",
   "metadata": {},
   "outputs": [
    {
     "data": {
      "text/plain": [
       "product_category  customer_type\n",
       "Clothing          New              10749138.80\n",
       "Furniture         Returning        10336014.35\n",
       "Electronics       New               9574541.69\n",
       "Clothing          Returning         8537595.13\n",
       "Food              New               8211315.31\n",
       "Electronics       Returning         7996498.88\n",
       "Furniture         New               7994266.21\n",
       "Food              Returning         6930570.34\n",
       "Name: sales, dtype: float64"
      ]
     },
     "execution_count": 90,
     "metadata": {},
     "output_type": "execute_result"
    }
   ],
   "source": [
    "df.groupby(['product_category','customer_type'])['sales'].sum().sort_values(ascending=False)"
   ]
  },
  {
   "cell_type": "markdown",
   "id": "263978df-6c9c-47dd-a8a0-1e094c2bf10f",
   "metadata": {},
   "source": [
    "###### ***New Customers purchase more clothing than repeat customers who purchase more furniture than electronics.***"
   ]
  },
  {
   "cell_type": "code",
   "execution_count": 53,
   "id": "a0c53b59-9bca-47a3-be6d-60bdf7584bcd",
   "metadata": {},
   "outputs": [
    {
     "data": {
      "text/plain": [
       "sales_rep  customer_type\n",
       "David      New              8472173.69\n",
       "Eve        New              8125361.71\n",
       "David      Returning        7923410.26\n",
       "Eve        Returning        7146387.73\n",
       "Alice      New              7130918.96\n",
       "Bob        New              6983746.51\n",
       "           Returning        6728881.67\n",
       "Alice      Returning        6266811.13\n",
       "Charlie    New              5817061.14\n",
       "           Returning        5735187.91\n",
       "Name: sales, dtype: float64"
      ]
     },
     "execution_count": 53,
     "metadata": {},
     "output_type": "execute_result"
    }
   ],
   "source": [
    "df.groupby(['sales_rep','customer_type'])['sales'].sum().sort_values(ascending=False)"
   ]
  },
  {
   "cell_type": "markdown",
   "id": "de69e62f-81ff-4a2f-85ae-76bb59e08174",
   "metadata": {},
   "source": [
    "###### ***David and Eve the top 2 overall reps,their sales are more with New customers,the same two persons are also overall dominant with repeat customers.***"
   ]
  },
  {
   "cell_type": "code",
   "execution_count": 92,
   "id": "3c0cb1b0-06e7-47fc-b75f-37183a878fb8",
   "metadata": {},
   "outputs": [
    {
     "data": {
      "text/plain": [
       "payment_method  customer_type\n",
       "Bank Transfer   New              13466253.11\n",
       "Credit Card     Returning        12283715.80\n",
       "Cash            New              11801369.98\n",
       "Credit Card     New              11261638.92\n",
       "Bank Transfer   Returning        11127821.39\n",
       "Cash            Returning        10389141.51\n",
       "Name: sales, dtype: float64"
      ]
     },
     "execution_count": 92,
     "metadata": {},
     "output_type": "execute_result"
    }
   ],
   "source": [
    "df.groupby(['payment_method','customer_type'])['sales'].sum().sort_values(ascending=False)"
   ]
  },
  {
   "cell_type": "markdown",
   "id": "30b2ec9f-05b3-438d-b6ef-f1d9b746ab90",
   "metadata": {},
   "source": [
    "###### ***New Customers dominate each payment method.***"
   ]
  },
  {
   "cell_type": "markdown",
   "id": "8a4a0ea6-175a-4c62-8a74-cbc03a61657a",
   "metadata": {},
   "source": [
    "###### **Sales by payment method.**"
   ]
  },
  {
   "cell_type": "code",
   "execution_count": 99,
   "id": "05bbeea0-dcd5-4a25-bba7-dfa0914321e3",
   "metadata": {},
   "outputs": [
    {
     "data": {
      "text/plain": [
       "payment_method\n",
       "Bank Transfer    24594074.50\n",
       "Credit Card      23545354.72\n",
       "Cash             22190511.49\n",
       "Name: sales, dtype: float64"
      ]
     },
     "execution_count": 99,
     "metadata": {},
     "output_type": "execute_result"
    }
   ],
   "source": [
    "df.groupby('payment_method')['sales'].sum().sort_values(ascending=False)"
   ]
  },
  {
   "cell_type": "markdown",
   "id": "3af9d8e5-4ffa-4d58-b8bd-dffa392e8964",
   "metadata": {},
   "source": [
    "###### ***Bank transfers are the leading payment method.***"
   ]
  },
  {
   "cell_type": "code",
   "execution_count": 98,
   "id": "04f5eaf3-4d73-4097-8331-af51631861c1",
   "metadata": {},
   "outputs": [
    {
     "data": {
      "text/plain": [
       "region  payment_method\n",
       "North   Credit Card       2535\n",
       "West    Bank Transfer     2425\n",
       "South   Bank Transfer     2325\n",
       "North   Cash              2270\n",
       "East    Credit Card       2250\n",
       "West    Cash              2157\n",
       "East    Cash              2060\n",
       "        Bank Transfer     2046\n",
       "West    Credit Card       1904\n",
       "North   Bank Transfer     1900\n",
       "South   Credit Card       1752\n",
       "        Cash              1731\n",
       "Name: quantity_Sold, dtype: int64"
      ]
     },
     "execution_count": 98,
     "metadata": {},
     "output_type": "execute_result"
    }
   ],
   "source": [
    "df.groupby(['region','payment_method'])['quantity_Sold'].sum().sort_values(ascending=False)"
   ]
  },
  {
   "cell_type": "markdown",
   "id": "69e46b3e-ac83-40fa-97cf-c728881b84dd",
   "metadata": {},
   "source": [
    "###### ***Regionally more purchases are made by credit cards.Cash is also the second highest in the North,however bank transfers are 3rd lowest. Considering that this is the leading region by sales,this could mean customers in the North are either more affluent or have a greater capacity to access debt facilities.***"
   ]
  },
  {
   "cell_type": "code",
   "execution_count": 97,
   "id": "00acc3bf-8894-4fda-8f60-e66f972aeb2d",
   "metadata": {},
   "outputs": [
    {
     "data": {
      "text/plain": [
       "customer_type  payment_method\n",
       "New            Bank Transfer     13466253.11\n",
       "Returning      Credit Card       12283715.80\n",
       "New            Cash              11801369.98\n",
       "               Credit Card       11261638.92\n",
       "Returning      Bank Transfer     11127821.39\n",
       "               Cash              10389141.51\n",
       "Name: sales, dtype: float64"
      ]
     },
     "execution_count": 97,
     "metadata": {},
     "output_type": "execute_result"
    }
   ],
   "source": [
    "df.groupby(['customer_type','payment_method'])['sales'].sum().sort_values(ascending=False)"
   ]
  },
  {
   "cell_type": "markdown",
   "id": "b53a7950-42a0-47dd-925e-807fe1be666d",
   "metadata": {},
   "source": [
    "###### ***New customers pay via bank transfer,whilst returning customers use credit cards far more for their purchases.***"
   ]
  },
  {
   "cell_type": "code",
   "execution_count": 96,
   "id": "14c9f12a-b498-4927-8ac3-8ce1e90bad01",
   "metadata": {},
   "outputs": [
    {
     "data": {
      "text/plain": [
       "product_category  payment_method\n",
       "Electronics       Credit Card       6988480.94\n",
       "Clothing          Bank Transfer     6796536.49\n",
       "                  Credit Card       6745977.05\n",
       "Furniture         Bank Transfer     6713805.29\n",
       "                  Cash              6315840.72\n",
       "Clothing          Cash              5744220.39\n",
       "Food              Bank Transfer     5594860.40\n",
       "Electronics       Bank Transfer     5488872.32\n",
       "Furniture         Credit Card       5300634.55\n",
       "Electronics       Cash              5093687.31\n",
       "Food              Cash              5036763.07\n",
       "                  Credit Card       4510262.18\n",
       "Name: sales, dtype: float64"
      ]
     },
     "execution_count": 96,
     "metadata": {},
     "output_type": "execute_result"
    }
   ],
   "source": [
    "df.groupby(['product_category','payment_method'])['sales'].sum().sort_values(ascending=False)"
   ]
  },
  {
   "cell_type": "markdown",
   "id": "459a1897-6382-454f-ae4b-3c58a7cd8d99",
   "metadata": {},
   "source": [
    "###### ***Credit cards are the leading payment method  and especially for electronics products.Bank transfers overall are the preferred method of payment in all categories.***"
   ]
  },
  {
   "cell_type": "markdown",
   "id": "fe6b8fd1-be1a-4164-ae78-599f83e774bd",
   "metadata": {},
   "source": [
    "### 3. Analysis of Quantities Sold"
   ]
  },
  {
   "cell_type": "markdown",
   "id": "c5593803-42bc-407e-b1f3-ff13f930e5ed",
   "metadata": {},
   "source": [
    "###### **Product Quantities Sold.**"
   ]
  },
  {
   "cell_type": "code",
   "execution_count": 58,
   "id": "6c2f9603-afe0-448e-bc00-909553d6c0e3",
   "metadata": {},
   "outputs": [
    {
     "data": {
      "text/plain": [
       "product_category\n",
       "Clothing       6922\n",
       "Furniture      6729\n",
       "Electronics    6096\n",
       "Food           5608\n",
       "Name: quantity_Sold, dtype: int64"
      ]
     },
     "execution_count": 58,
     "metadata": {},
     "output_type": "execute_result"
    }
   ],
   "source": [
    "df.groupby('product_category')['quantity_Sold'].sum().sort_values(ascending=False)"
   ]
  },
  {
   "cell_type": "markdown",
   "id": "a27083f7-933e-4bc9-9140-c761a6c6a15e",
   "metadata": {},
   "source": [
    "###### ***Clothing is the leading category.***"
   ]
  },
  {
   "cell_type": "code",
   "execution_count": 59,
   "id": "efe502c1-5dde-4564-8911-177d185bc31e",
   "metadata": {},
   "outputs": [
    {
     "data": {
      "text/plain": [
       "region  product_category\n",
       "North   Clothing            1939\n",
       "        Furniture           1927\n",
       "West    Furniture           1889\n",
       "East    Clothing            1797\n",
       "West    Clothing            1669\n",
       "North   Electronics         1660\n",
       "East    Electronics         1623\n",
       "South   Food                1577\n",
       "West    Electronics         1539\n",
       "South   Clothing            1517\n",
       "East    Furniture           1473\n",
       "        Food                1463\n",
       "South   Furniture           1440\n",
       "West    Food                1389\n",
       "South   Electronics         1274\n",
       "North   Food                1179\n",
       "Name: quantity_Sold, dtype: int64"
      ]
     },
     "execution_count": 59,
     "metadata": {},
     "output_type": "execute_result"
    }
   ],
   "source": [
    "df.groupby(['region','product_category'])['quantity_Sold'].sum().sort_values(ascending=False)"
   ]
  },
  {
   "cell_type": "markdown",
   "id": "95baae36-e889-454c-aaab-758bee0a5724",
   "metadata": {},
   "source": [
    "###### ***The North region is the leading region by quantities sold for clothing and furniture.***"
   ]
  },
  {
   "cell_type": "code",
   "execution_count": 61,
   "id": "53a05ffc-4967-4577-8e75-c27ac256bf1a",
   "metadata": {},
   "outputs": [
    {
     "data": {
      "text/plain": [
       "sales_channel  product_category\n",
       "Retail         Clothing            3825\n",
       "Online         Furniture           3457\n",
       "               Electronics         3359\n",
       "Retail         Furniture           3272\n",
       "Online         Clothing            3097\n",
       "Retail         Food                2919\n",
       "               Electronics         2737\n",
       "Online         Food                2689\n",
       "Name: quantity_Sold, dtype: int64"
      ]
     },
     "execution_count": 61,
     "metadata": {},
     "output_type": "execute_result"
    }
   ],
   "source": [
    "df.groupby(['sales_channel','product_category'])['quantity_Sold'].sum().sort_values(ascending=False)"
   ]
  },
  {
   "cell_type": "markdown",
   "id": "809e22b3-a19f-4d85-81cc-75fb49e2fe1e",
   "metadata": {},
   "source": [
    "###### ***Retail sells far more clothing than online,whilst online sells more furniture than retail.***"
   ]
  },
  {
   "cell_type": "code",
   "execution_count": 62,
   "id": "5febbe6a-cbc9-4a96-8922-37a6fce2a6e6",
   "metadata": {},
   "outputs": [
    {
     "data": {
      "text/plain": [
       "payment_method  product_category\n",
       "Bank Transfer   Clothing            2502\n",
       "Credit Card     Electronics         2396\n",
       "Bank Transfer   Furniture           2381\n",
       "Cash            Furniture           2362\n",
       "Credit Card     Clothing            2285\n",
       "Cash            Clothing            2135\n",
       "Credit Card     Furniture           1986\n",
       "Cash            Food                1984\n",
       "Bank Transfer   Electronics         1963\n",
       "                Food                1850\n",
       "Credit Card     Food                1774\n",
       "Cash            Electronics         1737\n",
       "Name: quantity_Sold, dtype: int64"
      ]
     },
     "execution_count": 62,
     "metadata": {},
     "output_type": "execute_result"
    }
   ],
   "source": [
    "df.groupby(['payment_method','product_category'])['quantity_Sold'].sum().sort_values(ascending=False)"
   ]
  },
  {
   "cell_type": "markdown",
   "id": "966a8e68-fce2-41c2-bc9e-7297c4b08a59",
   "metadata": {},
   "source": [
    "###### ***Bank transfers are used far more often for clothing, whilst the credit card is used for electronics.***"
   ]
  },
  {
   "cell_type": "code",
   "execution_count": 101,
   "id": "9c54a241-7bb2-4d87-b89a-e668a6829bf2",
   "metadata": {},
   "outputs": [
    {
     "data": {
      "text/plain": [
       "sales_rep  product_category\n",
       "David      Furniture           1663\n",
       "           Clothing            1615\n",
       "Bob        Furniture           1567\n",
       "Eve        Clothing            1552\n",
       "David      Electronics         1511\n",
       "Eve        Furniture           1394\n",
       "           Electronics         1348\n",
       "Alice      Clothing            1290\n",
       "Charlie    Clothing            1278\n",
       "Bob        Food                1275\n",
       "Alice      Electronics         1255\n",
       "David      Food                1253\n",
       "Bob        Clothing            1187\n",
       "Alice      Food                1165\n",
       "           Furniture           1122\n",
       "Charlie    Electronics         1034\n",
       "Eve        Food                 993\n",
       "Charlie    Furniture            983\n",
       "Bob        Electronics          948\n",
       "Charlie    Food                 922\n",
       "Name: quantity_Sold, dtype: int64"
      ]
     },
     "execution_count": 101,
     "metadata": {},
     "output_type": "execute_result"
    }
   ],
   "source": [
    "df.groupby(['sales_rep','product_category'])['quantity_Sold'].sum().sort_values(ascending=False)"
   ]
  },
  {
   "cell_type": "markdown",
   "id": "0c1eabb1-82e3-44a7-869c-f72add99b8a2",
   "metadata": {},
   "source": [
    "###### ***David sells more quantities of Clothing than Even,recall that Eve is second overall to David and Eve is superior in clothing sales by value over David.***"
   ]
  },
  {
   "cell_type": "markdown",
   "id": "d8d51c24-e127-4a9e-a451-1777bf9b360a",
   "metadata": {},
   "source": [
    "###### **Quantities Sold by Sales Rep**"
   ]
  },
  {
   "cell_type": "code",
   "execution_count": 63,
   "id": "2feeff70-bb48-4967-9915-d031397cb89b",
   "metadata": {},
   "outputs": [
    {
     "data": {
      "text/plain": [
       "sales_rep\n",
       "David      6042\n",
       "Eve        5287\n",
       "Bob        4977\n",
       "Alice      4832\n",
       "Charlie    4217\n",
       "Name: quantity_Sold, dtype: int64"
      ]
     },
     "execution_count": 63,
     "metadata": {},
     "output_type": "execute_result"
    }
   ],
   "source": [
    "df.groupby(['sales_rep'])['quantity_Sold'].sum().sort_values(ascending=False)"
   ]
  },
  {
   "cell_type": "markdown",
   "id": "a3c132cf-3e41-4a9f-af27-d5f1abba983a",
   "metadata": {},
   "source": [
    "###### ***David is leading sales rep by value and quantities.***"
   ]
  },
  {
   "cell_type": "code",
   "execution_count": 64,
   "id": "2ed62453-3c71-41bc-94b2-af6b9d535cc1",
   "metadata": {},
   "outputs": [
    {
     "data": {
      "text/plain": [
       "region  sales_rep\n",
       "North   David        1630\n",
       "West    Bob          1545\n",
       "North   Eve          1527\n",
       "South   David        1499\n",
       "West    David        1459\n",
       "East    David        1454\n",
       "        Alice        1318\n",
       "        Bob          1317\n",
       "        Eve          1273\n",
       "South   Eve          1263\n",
       "West    Eve          1224\n",
       "North   Alice        1221\n",
       "South   Alice        1212\n",
       "North   Charlie      1184\n",
       "West    Charlie      1177\n",
       "North   Bob          1143\n",
       "West    Alice        1081\n",
       "East    Charlie       994\n",
       "South   Bob           972\n",
       "        Charlie       862\n",
       "Name: quantity_Sold, dtype: int64"
      ]
     },
     "execution_count": 64,
     "metadata": {},
     "output_type": "execute_result"
    }
   ],
   "source": [
    "df.groupby(['region','sales_rep'])['quantity_Sold'].sum().sort_values(ascending=False)"
   ]
  },
  {
   "cell_type": "markdown",
   "id": "5550d570-89e5-4af3-a7f4-06f91e0690cd",
   "metadata": {},
   "source": [
    "###### ***Regionally David is top and Bob from the west region is second by quantities sold and Eve is third regionally.***"
   ]
  },
  {
   "cell_type": "code",
   "execution_count": 65,
   "id": "db576480-b150-4096-ba59-01e86cbdfeac",
   "metadata": {},
   "outputs": [
    {
     "data": {
      "text/plain": [
       "product_category  sales_rep\n",
       "Furniture         David        1663\n",
       "Clothing          David        1615\n",
       "Furniture         Bob          1567\n",
       "Clothing          Eve          1552\n",
       "Electronics       David        1511\n",
       "Furniture         Eve          1394\n",
       "Electronics       Eve          1348\n",
       "Clothing          Alice        1290\n",
       "                  Charlie      1278\n",
       "Food              Bob          1275\n",
       "Electronics       Alice        1255\n",
       "Food              David        1253\n",
       "Clothing          Bob          1187\n",
       "Food              Alice        1165\n",
       "Furniture         Alice        1122\n",
       "Electronics       Charlie      1034\n",
       "Food              Eve           993\n",
       "Furniture         Charlie       983\n",
       "Electronics       Bob           948\n",
       "Food              Charlie       922\n",
       "Name: quantity_Sold, dtype: int64"
      ]
     },
     "execution_count": 65,
     "metadata": {},
     "output_type": "execute_result"
    }
   ],
   "source": [
    "df.groupby(['product_category','sales_rep'])['quantity_Sold'].sum().sort_values(ascending=False)"
   ]
  },
  {
   "cell_type": "markdown",
   "id": "ef30ea77-5c47-4987-829f-35bde4da7a71",
   "metadata": {},
   "source": [
    "###### ***Furniture is the most sold category by David and Bob who is second regionally.***"
   ]
  },
  {
   "cell_type": "code",
   "execution_count": 66,
   "id": "fc910e5f-65e1-47cf-8cda-354eae3e79cc",
   "metadata": {},
   "outputs": [
    {
     "data": {
      "text/plain": [
       "sales_channel  sales_rep\n",
       "Retail         David        3199\n",
       "Online         David        2843\n",
       "Retail         Eve          2776\n",
       "Online         Alice        2582\n",
       "               Eve          2511\n",
       "               Bob          2509\n",
       "Retail         Bob          2468\n",
       "               Alice        2250\n",
       "Online         Charlie      2157\n",
       "Retail         Charlie      2060\n",
       "Name: quantity_Sold, dtype: int64"
      ]
     },
     "execution_count": 66,
     "metadata": {},
     "output_type": "execute_result"
    }
   ],
   "source": [
    "df.groupby(['sales_channel','sales_rep'])['quantity_Sold'].sum().sort_values(ascending=False)"
   ]
  },
  {
   "cell_type": "markdown",
   "id": "799ac5df-17ea-4158-8691-5df00e763f08",
   "metadata": {},
   "source": [
    "###### ***David leads both Retail and Online channels.***"
   ]
  },
  {
   "cell_type": "markdown",
   "id": "25378bb3-1dfb-4479-acd5-804cc2d59419",
   "metadata": {},
   "source": [
    "###### **Quantities Sold by Customer Type.**"
   ]
  },
  {
   "cell_type": "code",
   "execution_count": 67,
   "id": "56f9238f-480b-4537-8346-1716f42baa77",
   "metadata": {},
   "outputs": [
    {
     "data": {
      "text/plain": [
       "customer_type\n",
       "New          13184\n",
       "Returning    12171\n",
       "Name: quantity_Sold, dtype: int64"
      ]
     },
     "execution_count": 67,
     "metadata": {},
     "output_type": "execute_result"
    }
   ],
   "source": [
    "df.groupby(['customer_type'])['quantity_Sold'].sum().sort_values(ascending=False)"
   ]
  },
  {
   "cell_type": "code",
   "execution_count": 68,
   "id": "1b746c2b-ed0a-4a57-81f1-09cd259766eb",
   "metadata": {},
   "outputs": [
    {
     "data": {
      "text/plain": [
       "region  customer_type\n",
       "North   New              3880\n",
       "East    New              3377\n",
       "West    New              3269\n",
       "        Returning        3217\n",
       "South   Returning        3150\n",
       "East    Returning        2979\n",
       "North   Returning        2825\n",
       "South   New              2658\n",
       "Name: quantity_Sold, dtype: int64"
      ]
     },
     "execution_count": 68,
     "metadata": {},
     "output_type": "execute_result"
    }
   ],
   "source": [
    "df.groupby(['region','customer_type'])['quantity_Sold'].sum().sort_values(ascending=False)"
   ]
  },
  {
   "cell_type": "markdown",
   "id": "c0697443-db9c-440c-998c-991c21fd9076",
   "metadata": {},
   "source": [
    "###### ***North,East,West regions are dominated by New Customers. Whereas the West,South,East are dominant in customer retention/repeat.***"
   ]
  },
  {
   "cell_type": "code",
   "execution_count": 69,
   "id": "5fcee552-21bf-4852-abc8-87eadda26286",
   "metadata": {},
   "outputs": [
    {
     "data": {
      "text/plain": [
       "product_category  customer_type\n",
       "Clothing          New              3895\n",
       "Furniture         Returning        3759\n",
       "Electronics       New              3417\n",
       "Clothing          Returning        3027\n",
       "Furniture         New              2970\n",
       "Food              New              2902\n",
       "                  Returning        2706\n",
       "Electronics       Returning        2679\n",
       "Name: quantity_Sold, dtype: int64"
      ]
     },
     "execution_count": 69,
     "metadata": {},
     "output_type": "execute_result"
    }
   ],
   "source": [
    "df.groupby(['product_category','customer_type'])['quantity_Sold'].sum().sort_values(ascending=False)"
   ]
  },
  {
   "cell_type": "markdown",
   "id": "b21995be-4d55-406f-9c9e-2f4ed3848af9",
   "metadata": {},
   "source": [
    "###### ***Clothing and Electronics are most purchased by new customers. Whereas furniture is mostly purchased by returning customers.***"
   ]
  },
  {
   "cell_type": "code",
   "execution_count": 70,
   "id": "7a6337ef-2d3a-4ace-9b5d-d375065936c4",
   "metadata": {},
   "outputs": [
    {
     "data": {
      "text/plain": [
       "sales_channel  customer_type\n",
       "Online         New              6788\n",
       "Retail         New              6396\n",
       "               Returning        6357\n",
       "Online         Returning        5814\n",
       "Name: quantity_Sold, dtype: int64"
      ]
     },
     "execution_count": 70,
     "metadata": {},
     "output_type": "execute_result"
    }
   ],
   "source": [
    "df.groupby(['sales_channel','customer_type'])['quantity_Sold'].sum().sort_values(ascending=False)"
   ]
  },
  {
   "cell_type": "markdown",
   "id": "13c00f35-c730-4540-afb6-93428c87f57a",
   "metadata": {},
   "source": [
    "###### ***New Customers dominate both channels.***"
   ]
  },
  {
   "cell_type": "code",
   "execution_count": 71,
   "id": "f5529a3f-1c9b-4e15-b923-4e6d6df9d865",
   "metadata": {},
   "outputs": [
    {
     "data": {
      "text/plain": [
       "region\n",
       "North    6705\n",
       "West     6486\n",
       "East     6356\n",
       "South    5808\n",
       "Name: quantity_Sold, dtype: int64"
      ]
     },
     "execution_count": 71,
     "metadata": {},
     "output_type": "execute_result"
    }
   ],
   "source": [
    "df.groupby('region')['quantity_Sold'].sum().sort_values(ascending=False)"
   ]
  },
  {
   "cell_type": "markdown",
   "id": "fd0d66d0-b77a-4e86-a676-43ffcd756c4a",
   "metadata": {},
   "source": [
    "###### ***The North region is the leading seller by quantities and sales value.***"
   ]
  },
  {
   "cell_type": "code",
   "execution_count": 73,
   "id": "2cfce18d-2761-4a20-9f1d-6ae06d601c36",
   "metadata": {},
   "outputs": [
    {
     "data": {
      "text/plain": [
       "product_category  region\n",
       "Clothing          North     1939\n",
       "Furniture         North     1927\n",
       "                  West      1889\n",
       "Clothing          East      1797\n",
       "                  West      1669\n",
       "Electronics       North     1660\n",
       "                  East      1623\n",
       "Food              South     1577\n",
       "Electronics       West      1539\n",
       "Clothing          South     1517\n",
       "Furniture         East      1473\n",
       "Food              East      1463\n",
       "Furniture         South     1440\n",
       "Food              West      1389\n",
       "Electronics       South     1274\n",
       "Food              North     1179\n",
       "Name: quantity_Sold, dtype: int64"
      ]
     },
     "execution_count": 73,
     "metadata": {},
     "output_type": "execute_result"
    }
   ],
   "source": [
    "df.groupby(['product_category','region'])['quantity_Sold'].sum().sort_values(ascending=False)"
   ]
  },
  {
   "cell_type": "markdown",
   "id": "8a23390a-63b2-4714-af7f-f9b6c5c463f4",
   "metadata": {},
   "source": [
    "###### ***Clothing and furniture are leading in the North and Furniture in the west.***"
   ]
  },
  {
   "cell_type": "code",
   "execution_count": 74,
   "id": "ea179b2a-3e38-4e5b-b59a-d318ebdac91e",
   "metadata": {},
   "outputs": [
    {
     "data": {
      "text/plain": [
       "sales_rep  region\n",
       "David      North     1630\n",
       "Bob        West      1545\n",
       "Eve        North     1527\n",
       "David      South     1499\n",
       "           West      1459\n",
       "           East      1454\n",
       "Alice      East      1318\n",
       "Bob        East      1317\n",
       "Eve        East      1273\n",
       "           South     1263\n",
       "           West      1224\n",
       "Alice      North     1221\n",
       "           South     1212\n",
       "Charlie    North     1184\n",
       "           West      1177\n",
       "Bob        North     1143\n",
       "Alice      West      1081\n",
       "Charlie    East       994\n",
       "Bob        South      972\n",
       "Charlie    South      862\n",
       "Name: quantity_Sold, dtype: int64"
      ]
     },
     "execution_count": 74,
     "metadata": {},
     "output_type": "execute_result"
    }
   ],
   "source": [
    "df.groupby(['sales_rep','region'])['quantity_Sold'].sum().sort_values(ascending=False)"
   ]
  },
  {
   "cell_type": "markdown",
   "id": "92949f15-dd8d-4e9f-8054-a2a8340b531e",
   "metadata": {},
   "source": [
    "###### ***David is the leading seller followed by Bob regionally.***"
   ]
  },
  {
   "cell_type": "code",
   "execution_count": 75,
   "id": "b31f5727-1550-47c2-8cc0-531891b7afcd",
   "metadata": {},
   "outputs": [
    {
     "data": {
      "text/plain": [
       "sales_channel  region\n",
       "Retail         East      3503\n",
       "Online         North     3413\n",
       "               West      3373\n",
       "Retail         North     3292\n",
       "               West      3113\n",
       "Online         South     2963\n",
       "               East      2853\n",
       "Retail         South     2845\n",
       "Name: quantity_Sold, dtype: int64"
      ]
     },
     "execution_count": 75,
     "metadata": {},
     "output_type": "execute_result"
    }
   ],
   "source": [
    "df.groupby(['sales_channel','region'])['quantity_Sold'].sum().sort_values(ascending=False)"
   ]
  },
  {
   "cell_type": "markdown",
   "id": "38564f85-bd6a-42e7-9d73-f0fbb0183b0c",
   "metadata": {},
   "source": [
    "###### ***Retail in the East sells far more quantities than the North who are dominant in online sales and the west is second in terms of online sales.***"
   ]
  },
  {
   "cell_type": "code",
   "execution_count": 76,
   "id": "ded7456c-1649-4f3f-98e8-2749959e3067",
   "metadata": {},
   "outputs": [
    {
     "data": {
      "text/plain": [
       "customer_type  region\n",
       "New            North     3880\n",
       "               East      3377\n",
       "               West      3269\n",
       "Returning      West      3217\n",
       "               South     3150\n",
       "               East      2979\n",
       "               North     2825\n",
       "New            South     2658\n",
       "Name: quantity_Sold, dtype: int64"
      ]
     },
     "execution_count": 76,
     "metadata": {},
     "output_type": "execute_result"
    }
   ],
   "source": [
    "df.groupby(['customer_type','region'])['quantity_Sold'].sum().sort_values(ascending=False)"
   ]
  },
  {
   "cell_type": "markdown",
   "id": "60598d60-35bf-4d3b-8a1f-a149c08c6119",
   "metadata": {},
   "source": [
    "###### ***The North sells far more quantities to new customers whilst the East is second regionally. Whereas the West is leading by customer retention/repeat and the North is second lowest.***"
   ]
  }
 ],
 "metadata": {
  "kernelspec": {
   "display_name": "Python 3 (ipykernel)",
   "language": "python",
   "name": "python3"
  },
  "language_info": {
   "codemirror_mode": {
    "name": "ipython",
    "version": 3
   },
   "file_extension": ".py",
   "mimetype": "text/x-python",
   "name": "python",
   "nbconvert_exporter": "python",
   "pygments_lexer": "ipython3",
   "version": "3.13.3"
  }
 },
 "nbformat": 4,
 "nbformat_minor": 5
}
